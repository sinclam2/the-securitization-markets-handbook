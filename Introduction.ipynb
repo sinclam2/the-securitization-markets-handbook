{
 "cells": [
  {
   "cell_type": "markdown",
   "metadata": {},
   "source": [
    "- Assets financed by securitization vehicles in the US (1991): $54B\n",
    "\n",
    "- Assets financed by securitization vehicles in the US (2006): $812B\n",
    "\n",
    "\n",
    "- Between 2008-2010, there was an outflow of assets from the market\n",
    "    - More pools were amortizing or defaulting than being pooled and securitized\n",
    "    \n",
    "- Between 1991-2007, the MBS market was **polluted with poorly underwritten mortgages**\n",
    "    - Rating agencies were **overrating securities**\n",
    "    \n",
    "**Question**: what does it mean for a mortgage to be poorly underwritten?"
   ]
  },
  {
   "cell_type": "markdown",
   "metadata": {},
   "source": [
    "## Questions that weren't asked before the crisis:\n",
    "\n",
    "1. What if the rating agencies are wrong?\n",
    "2. What if investors don't know the true value of the assets they're securitizing?\n",
    "3. What if the housing market crashes?"
   ]
  },
  {
   "cell_type": "markdown",
   "metadata": {},
   "source": [
    "## Bank balance sheet vs securitization vehicle capital structure (i.e. general funding vs securitization)\n",
    "\n",
    "- Manager of general-purpose balance sheet can dynamically allocate across a wide range of assets\n",
    "    - SPV is only allowed to fund a predefined pool\n",
    "    \n",
    "- A bank can be managed conservatively under one manager, and aggressively under the next - creditors bear the risk of both\n",
    "    - The level of risk for an SPV is determined ahead of time"
   ]
  },
  {
   "cell_type": "markdown",
   "metadata": {},
   "source": [
    "## Is the market too big to fail?\n",
    "\n",
    "- Notice, we're asking if the **market** is too big to fail (not just a specific **institution**)\n",
    "    - This is different from how the \"too big to fail\" expression is typically used\n",
    "    \n",
    "- Eventually, the Federal Reserve propped up the market to supply liquidity to the MBS/ABS markets\n",
    "\n",
    "- In late 2006/early 2007, mortgage lenders that were **completely reliant on the MBS markets to refinance their balance sheets** began filing for bankruptcy\n",
    "\n",
    "- Margin calls on hedge funds with big exposures to subprime mortgages and ABS showed the thinness of the market\n",
    "    - **ADD COMMENT ABOUT WHAT THIS MEANS**\n",
    "    \n",
    "- It became clear that CDOs were had a mix of good and bad assets on their balance sheets, and **it was hard to tell which assets were good**\n",
    "    - Therefore **investors assumed all assets were bad and everyone started selling**\n",
    "\n",
    "- Since ABS suddenly seemed like a very risky investment, investors stopped buying them\n",
    "    - This meant that **issuers couldn't issue them**\n",
    "        - Therefore **credit stopped being issued to households and businesses**\n",
    "            - **The easy access to cash was cut off; the super indebted household sector couldn't keep inflating the bubble**\n",
    "                - Think of a Ponzi scheme when new people aren't investing, or a pyramid scheme when new people aren't signing on\n",
    "                \n",
    "- Once the securitization process had ground to a halt, the decline in credit (i.e. access to cash) spread negative effects throughout the economy\n",
    "\n",
    "### In summary: the catalyst for the financial crisis was a housing bubble fueled by Ponzi-style mortgages (which were made possible by the securitization process)\n",
    "\n",
    "- In April 2011, 11m American mortgages were \"underwater\"\n",
    "    - This means that if the homeowner sold the house at market value and put all the proceeds towards paying off the mortgage, they would still come up short\n",
    "        - Think: what does this mean about the intrinsic value of the home vs. the market price during a bubble?\n",
    "- In April 2011, 32.7% of subprime mortgages were delinquent\n",
    "    - **Note**: *delinquent* means payment is late, and *seriously delinquent* means payment is 90+ days late\n",
    "    \n",
    "    \n",
    "- **So how did this happen?**\n",
    "    - One explanation: mortgage originators didn't have any skin in the game (i.e. no incentive to make sure mortgages they issued were solid since they wouldn't be (adequately) negatively affected)\n",
    "    \n",
    "- Dodd-Frank was signed into law in July 2010 to place more constraints on the MBS/ABS market\n",
    "    - E.g. securitizer of assets must retain 5% of credit risk (i.e. skin in the game)\n",
    "        - This is called **risk retention** and can be sliced in many different ways\n",
    "            - A *Vertical Position* means a 5% slice of each class for the security\n",
    "            - A *Horizontal Position* means a 5% made entirely of the first loss class\n",
    "            - An *L-shaped Position* is some combination of vertical and horizontal\n",
    "            \n",
    "- **What are the possible outcomes of this 5% rule?**\n",
    "    - **Best case**:\n",
    "        - restored confidence in market\n",
    "        - prevention of securitization of badly/fraudulently underwritten loans\n",
    "    - **Worst case**:\n",
    "        - reduced lending\n",
    "        - higher cost of credit\n",
    "        \n",
    "### In defense of securitization\n",
    "\n",
    "- Securitization does not crash economies\n",
    "    - Unethical and irresponsible use of securitization does\n",
    "- Securitization is a valuable financial innovation\n",
    "    - Allows more effective deployment of capital (i.e. can give more loans, stimulate the economy more, etc.)\n",
    "    \n",
    "- Financial institutions do not have the capacity to finance the credit that households and businesses need to grow\n",
    "    - Securities markets can absorb and diversify the risks more effectively than financial institutions can\n",
    "- MBS and ABS are an important part of fixed income portfolios\n",
    "- Banks and finance companies sell assets all the time that are securitized\n",
    "    - It helps them diversify their capital structure\n",
    "    \n",
    "### Supply side of the market vs. the demand side\n",
    "\n",
    "- The **Supply Side** represents where:\n",
    "    - Assets are securitized\n",
    "    - MBS and ABS are issued\n",
    "- The **Demand Side** represents where:\n",
    "    - Investors look to enhance their portfolios by investing in specific classes of ABS and MBS"
   ]
  }
 ],
 "metadata": {
  "anaconda-cloud": {},
  "kernelspec": {
   "display_name": "Python [default]",
   "language": "python",
   "name": "python3"
  },
  "language_info": {
   "codemirror_mode": {
    "name": "ipython",
    "version": 3
   },
   "file_extension": ".py",
   "mimetype": "text/x-python",
   "name": "python",
   "nbconvert_exporter": "python",
   "pygments_lexer": "ipython3",
   "version": "3.5.2"
  }
 },
 "nbformat": 4,
 "nbformat_minor": 1
}
