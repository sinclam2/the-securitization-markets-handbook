{
 "cells": [
  {
   "cell_type": "markdown",
   "metadata": {},
   "source": [
    "1. \"In 2008, the MBS market was polluted by poorly underwritten mortgages\"\n",
    "    - What makes a mortgage poorly underwritten?\n",
    "    \n",
    "2. What does it mean for a mortgage lender to be \"totally reliant on the MBS market to refinance their balance sheets\"?\n",
    "\n",
    "3. Why were there margin calls on the hedge funds that invested heavily in MBS?\n",
    "    - What is the catalyst for the margin call?\n",
    "    \n",
    "4. \"Margin calls revealed the thinness in the market for certain classes of ABS\"\n",
    "    - What does this mean?\n",
    "    \n",
    "5. Can CDO invest in anything (e.g. MBS, etc.)?\n",
    "\n",
    "6. What does \"subprime\" mean? What does \"prime\" mean?\n",
    "\n",
    "7. What is the simplest way to describe \"capital structure\"?\n",
    "\n",
    "8. Why are ABS and MBS sometimes used interchangeably?\n",
    "\n",
    "9. \"... [securitization] enables financial institutions to deploy capital more effectively than when assets that are originated must also be funded\"\n",
    "    - What does this mean?\n",
    "    \n",
    "10. What's the difference between an MBS and a CMO?"
   ]
  }
 ],
 "metadata": {
  "anaconda-cloud": {},
  "kernelspec": {
   "display_name": "Python [default]",
   "language": "python",
   "name": "python3"
  },
  "language_info": {
   "codemirror_mode": {
    "name": "ipython",
    "version": 3
   },
   "file_extension": ".py",
   "mimetype": "text/x-python",
   "name": "python",
   "nbconvert_exporter": "python",
   "pygments_lexer": "ipython3",
   "version": "3.5.2"
  }
 },
 "nbformat": 4,
 "nbformat_minor": 1
}
